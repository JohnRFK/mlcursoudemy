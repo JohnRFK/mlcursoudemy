{
 "cells": [
  {
   "cell_type": "markdown",
   "metadata": {},
   "source": [
    "# Modelo de Regresión Lineal\n",
    "## Modelo con datos simulados\n",
    "* y = a + bx\n",
    "* X : 100 valores distribuidos según una Normal de media 1.5 y desviación estandar 2.5 N(1.5, 2,5)\n",
    "* Ye : 5 + 1.9x + e\n",
    "* e será distribuido segun una N(0, 0.8)"
   ]
  },
  {
   "cell_type": "code",
   "execution_count": 1,
   "metadata": {},
   "outputs": [],
   "source": [
    "import pandas as pd\n",
    "import numpy as np"
   ]
  },
  {
   "cell_type": "code",
   "execution_count": 2,
   "metadata": {},
   "outputs": [],
   "source": [
    "x = 1.5 + 2.5 * np.random.randn(100)"
   ]
  },
  {
   "cell_type": "code",
   "execution_count": 3,
   "metadata": {},
   "outputs": [],
   "source": [
    "res = 0.8 * np.random.randn(100)"
   ]
  },
  {
   "cell_type": "code",
   "execution_count": 4,
   "metadata": {},
   "outputs": [],
   "source": [
    "y_pred = 5 + 0.3 * x"
   ]
  },
  {
   "cell_type": "code",
   "execution_count": 5,
   "metadata": {},
   "outputs": [],
   "source": [
    "y_act = 5 + 0.3 * x + res"
   ]
  },
  {
   "cell_type": "code",
   "execution_count": 6,
   "metadata": {},
   "outputs": [],
   "source": [
    "x_list = x.tolist()\n",
    "y_pred_list = y_pred.tolist()\n",
    "y_act_list = y_act.tolist()"
   ]
  },
  {
   "cell_type": "code",
   "execution_count": 7,
   "metadata": {},
   "outputs": [],
   "source": [
    "data = pd.DataFrame(\n",
    "    {\n",
    "        \"x\":x_list,\n",
    "        \"y_actual\":y_act_list,\n",
    "        \"y_prediccion\":y_pred_list\n",
    "    }\n",
    ")"
   ]
  },
  {
   "cell_type": "code",
   "execution_count": 8,
   "metadata": {},
   "outputs": [
    {
     "data": {
      "text/html": [
       "<div>\n",
       "<style scoped>\n",
       "    .dataframe tbody tr th:only-of-type {\n",
       "        vertical-align: middle;\n",
       "    }\n",
       "\n",
       "    .dataframe tbody tr th {\n",
       "        vertical-align: top;\n",
       "    }\n",
       "\n",
       "    .dataframe thead th {\n",
       "        text-align: right;\n",
       "    }\n",
       "</style>\n",
       "<table border=\"1\" class=\"dataframe\">\n",
       "  <thead>\n",
       "    <tr style=\"text-align: right;\">\n",
       "      <th></th>\n",
       "      <th>x</th>\n",
       "      <th>y_actual</th>\n",
       "      <th>y_prediccion</th>\n",
       "    </tr>\n",
       "  </thead>\n",
       "  <tbody>\n",
       "    <tr>\n",
       "      <th>0</th>\n",
       "      <td>2.681956</td>\n",
       "      <td>6.613609</td>\n",
       "      <td>5.804587</td>\n",
       "    </tr>\n",
       "    <tr>\n",
       "      <th>1</th>\n",
       "      <td>1.231000</td>\n",
       "      <td>5.314396</td>\n",
       "      <td>5.369300</td>\n",
       "    </tr>\n",
       "    <tr>\n",
       "      <th>2</th>\n",
       "      <td>-1.679159</td>\n",
       "      <td>5.279352</td>\n",
       "      <td>4.496252</td>\n",
       "    </tr>\n",
       "    <tr>\n",
       "      <th>3</th>\n",
       "      <td>2.016774</td>\n",
       "      <td>6.784882</td>\n",
       "      <td>5.605032</td>\n",
       "    </tr>\n",
       "    <tr>\n",
       "      <th>4</th>\n",
       "      <td>-1.252974</td>\n",
       "      <td>4.259489</td>\n",
       "      <td>4.624108</td>\n",
       "    </tr>\n",
       "    <tr>\n",
       "      <th>...</th>\n",
       "      <td>...</td>\n",
       "      <td>...</td>\n",
       "      <td>...</td>\n",
       "    </tr>\n",
       "    <tr>\n",
       "      <th>95</th>\n",
       "      <td>-0.168750</td>\n",
       "      <td>4.700686</td>\n",
       "      <td>4.949375</td>\n",
       "    </tr>\n",
       "    <tr>\n",
       "      <th>96</th>\n",
       "      <td>0.073897</td>\n",
       "      <td>3.218849</td>\n",
       "      <td>5.022169</td>\n",
       "    </tr>\n",
       "    <tr>\n",
       "      <th>97</th>\n",
       "      <td>5.310854</td>\n",
       "      <td>6.985236</td>\n",
       "      <td>6.593256</td>\n",
       "    </tr>\n",
       "    <tr>\n",
       "      <th>98</th>\n",
       "      <td>1.993381</td>\n",
       "      <td>5.142150</td>\n",
       "      <td>5.598014</td>\n",
       "    </tr>\n",
       "    <tr>\n",
       "      <th>99</th>\n",
       "      <td>2.566918</td>\n",
       "      <td>5.823930</td>\n",
       "      <td>5.770075</td>\n",
       "    </tr>\n",
       "  </tbody>\n",
       "</table>\n",
       "<p>100 rows × 3 columns</p>\n",
       "</div>"
      ],
      "text/plain": [
       "           x  y_actual  y_prediccion\n",
       "0   2.681956  6.613609      5.804587\n",
       "1   1.231000  5.314396      5.369300\n",
       "2  -1.679159  5.279352      4.496252\n",
       "3   2.016774  6.784882      5.605032\n",
       "4  -1.252974  4.259489      4.624108\n",
       "..       ...       ...           ...\n",
       "95 -0.168750  4.700686      4.949375\n",
       "96  0.073897  3.218849      5.022169\n",
       "97  5.310854  6.985236      6.593256\n",
       "98  1.993381  5.142150      5.598014\n",
       "99  2.566918  5.823930      5.770075\n",
       "\n",
       "[100 rows x 3 columns]"
      ]
     },
     "execution_count": 8,
     "metadata": {},
     "output_type": "execute_result"
    }
   ],
   "source": [
    "data"
   ]
  },
  {
   "cell_type": "code",
   "execution_count": 9,
   "metadata": {},
   "outputs": [],
   "source": [
    "import matplotlib.pyplot as plt"
   ]
  },
  {
   "cell_type": "code",
   "execution_count": 10,
   "metadata": {},
   "outputs": [],
   "source": [
    "y_mean = [np.mean(y_act) for i in range(1, len(x_list) + 1)]"
   ]
  },
  {
   "cell_type": "code",
   "execution_count": 11,
   "metadata": {},
   "outputs": [
    {
     "data": {
      "text/plain": [
       "Text(0.5, 1.0, 'Valor Actual vs Predicción')"
      ]
     },
     "execution_count": 11,
     "metadata": {},
     "output_type": "execute_result"
    },
    {
     "data": {
      "image/png": "[encoded data removed]",
      "text/plain": [
       "<Figure size 432x288 with 1 Axes>"
      ]
     },
     "metadata": {
      "needs_background": "light"
     },
     "output_type": "display_data"
    }
   ],
   "source": [
    "%matplotlib inline\n",
    "plt.plot(data[\"x\"],data[\"y_prediccion\"])\n",
    "plt.plot(data[\"x\"], data[\"y_actual\"], \"ro\")\n",
    "plt.plot(data[\"x\"],y_mean, \"g\")\n",
    "plt.title(\"Valor Actual vs Predicción\")"
   ]
  },
  {
   "cell_type": "code",
   "execution_count": 12,
   "metadata": {},
   "outputs": [],
   "source": [
    "data[\"SSR\"] = (data[\"y_prediccion\"] - np.mean(y_act)) ** 2"
   ]
  },
  {
   "cell_type": "code",
   "execution_count": 13,
   "metadata": {},
   "outputs": [],
   "source": [
    "data[\"SSD\"] = (data[\"y_prediccion\"] - data[\"y_actual\"]) ** 2"
   ]
  },
  {
   "cell_type": "code",
   "execution_count": 14,
   "metadata": {},
   "outputs": [],
   "source": [
    "data[\"SST\"] = (data[\"y_actual\"] - np.mean(y_act)) ** 2"
   ]
  },
  {
   "cell_type": "code",
   "execution_count": 15,
   "metadata": {},
   "outputs": [
    {
     "data": {
      "text/html": [
       "<div>\n",
       "<style scoped>\n",
       "    .dataframe tbody tr th:only-of-type {\n",
       "        vertical-align: middle;\n",
       "    }\n",
       "\n",
       "    .dataframe tbody tr th {\n",
       "        vertical-align: top;\n",
       "    }\n",
       "\n",
       "    .dataframe thead th {\n",
       "        text-align: right;\n",
       "    }\n",
       "</style>\n",
       "<table border=\"1\" class=\"dataframe\">\n",
       "  <thead>\n",
       "    <tr style=\"text-align: right;\">\n",
       "      <th></th>\n",
       "      <th>x</th>\n",
       "      <th>y_actual</th>\n",
       "      <th>y_prediccion</th>\n",
       "      <th>SSR</th>\n",
       "      <th>SSD</th>\n",
       "      <th>SST</th>\n",
       "    </tr>\n",
       "  </thead>\n",
       "  <tbody>\n",
       "    <tr>\n",
       "      <th>0</th>\n",
       "      <td>2.681956</td>\n",
       "      <td>6.613609</td>\n",
       "      <td>5.804587</td>\n",
       "      <td>0.107310</td>\n",
       "      <td>0.654518</td>\n",
       "      <td>1.291871</td>\n",
       "    </tr>\n",
       "    <tr>\n",
       "      <th>1</th>\n",
       "      <td>1.231000</td>\n",
       "      <td>5.314396</td>\n",
       "      <td>5.369300</td>\n",
       "      <td>0.011600</td>\n",
       "      <td>0.003014</td>\n",
       "      <td>0.026441</td>\n",
       "    </tr>\n",
       "    <tr>\n",
       "      <th>2</th>\n",
       "      <td>-1.679159</td>\n",
       "      <td>5.279352</td>\n",
       "      <td>4.496252</td>\n",
       "      <td>0.961874</td>\n",
       "      <td>0.613245</td>\n",
       "      <td>0.039066</td>\n",
       "    </tr>\n",
       "    <tr>\n",
       "      <th>3</th>\n",
       "      <td>2.016774</td>\n",
       "      <td>6.784882</td>\n",
       "      <td>5.605032</td>\n",
       "      <td>0.016391</td>\n",
       "      <td>1.392045</td>\n",
       "      <td>1.710544</td>\n",
       "    </tr>\n",
       "    <tr>\n",
       "      <th>4</th>\n",
       "      <td>-1.252974</td>\n",
       "      <td>4.259489</td>\n",
       "      <td>4.624108</td>\n",
       "      <td>0.727432</td>\n",
       "      <td>0.132947</td>\n",
       "      <td>1.482343</td>\n",
       "    </tr>\n",
       "  </tbody>\n",
       "</table>\n",
       "</div>"
      ],
      "text/plain": [
       "          x  y_actual  y_prediccion       SSR       SSD       SST\n",
       "0  2.681956  6.613609      5.804587  0.107310  0.654518  1.291871\n",
       "1  1.231000  5.314396      5.369300  0.011600  0.003014  0.026441\n",
       "2 -1.679159  5.279352      4.496252  0.961874  0.613245  0.039066\n",
       "3  2.016774  6.784882      5.605032  0.016391  1.392045  1.710544\n",
       "4 -1.252974  4.259489      4.624108  0.727432  0.132947  1.482343"
      ]
     },
     "execution_count": 15,
     "metadata": {},
     "output_type": "execute_result"
    }
   ],
   "source": [
    "data.head()"
   ]
  },
  {
   "cell_type": "code",
   "execution_count": 16,
   "metadata": {},
   "outputs": [],
   "source": [
    "SSR = sum(data[\"SSR\"])\n",
    "SSD = sum(data[\"SSD\"])\n",
    "SST = sum(data[\"SST\"])"
   ]
  },
  {
   "cell_type": "code",
   "execution_count": 17,
   "metadata": {},
   "outputs": [
    {
     "data": {
      "text/plain": [
       "50.722881219253615"
      ]
     },
     "execution_count": 17,
     "metadata": {},
     "output_type": "execute_result"
    }
   ],
   "source": [
    "SSR  ##Suma de los cuadrados de la regresión"
   ]
  },
  {
   "cell_type": "code",
   "execution_count": 18,
   "metadata": {},
   "outputs": [
    {
     "data": {
      "text/plain": [
       "54.03378513708357"
      ]
     },
     "execution_count": 18,
     "metadata": {},
     "output_type": "execute_result"
    }
   ],
   "source": [
    "SSD  ##suma de los cuadrados de las diferencias"
   ]
  },
  {
   "cell_type": "code",
   "execution_count": 19,
   "metadata": {},
   "outputs": [
    {
     "data": {
      "text/plain": [
       "95.05398178966652"
      ]
     },
     "execution_count": 19,
     "metadata": {},
     "output_type": "execute_result"
    }
   ],
   "source": [
    "SST  ##suma de los cuadrados totales"
   ]
  },
  {
   "cell_type": "code",
   "execution_count": 20,
   "metadata": {},
   "outputs": [
    {
     "data": {
      "text/plain": [
       "array([5.80458669, 5.36929993, 4.49625238, 5.60503224, 4.62410771,\n",
       "       5.91080444, 6.11927158, 5.8755612 , 5.64761823, 5.97558362,\n",
       "       4.86889603, 5.19165787, 5.18490221, 5.46132563, 5.80488429,\n",
       "       6.43088519, 5.15135515, 6.2227814 , 5.52914466, 5.57000177,\n",
       "       4.93374741, 5.63309686, 4.94455282, 5.60226565, 6.03115204,\n",
       "       7.42053995, 4.88918994, 6.09559447, 7.45115102, 5.2930389 ,\n",
       "       4.71697763, 5.69749487, 5.58938278, 5.37064919, 5.13624669,\n",
       "       5.36340567, 5.39487997, 6.02100888, 4.78433278, 5.6804952 ,\n",
       "       5.81260357, 5.93672941, 4.98902541, 4.40994625, 5.09717689,\n",
       "       4.28272619, 6.5565275 , 5.87177991, 4.0825257 , 4.83058867,\n",
       "       5.24418599, 7.38153888, 5.8121023 , 5.09409959, 6.03656432,\n",
       "       6.12933672, 6.04521361, 6.24332516, 6.60685836, 5.15888988,\n",
       "       5.03872447, 5.24635574, 5.41804649, 4.84261731, 5.38684866,\n",
       "       7.36287183, 4.58540502, 5.75699072, 5.51965119, 5.67378552,\n",
       "       4.85324376, 5.26893955, 4.77976983, 5.33196518, 3.89524328,\n",
       "       6.26104119, 7.1267359 , 5.59950884, 6.11778414, 5.9804728 ,\n",
       "       6.22131108, 4.72384314, 5.34193467, 5.94953339, 5.80800338,\n",
       "       6.0190152 , 5.30996412, 6.77598748, 6.22471135, 5.07219762,\n",
       "       5.45837715, 4.97165792, 6.70865004, 6.03889897, 5.29042469,\n",
       "       4.94937514, 5.02216895, 6.59325618, 5.59801426, 5.77007548])"
      ]
     },
     "execution_count": 20,
     "metadata": {},
     "output_type": "execute_result"
    }
   ],
   "source": [
    "y_pred"
   ]
  },
  {
   "cell_type": "markdown",
   "metadata": {},
   "source": [
    "### Caso ideal\n",
    "* SSD = 0\n",
    "* SSR = SST\n",
    "\n",
    "### R²\n",
    "R² = SSR / SST < 1"
   ]
  },
  {
   "cell_type": "code",
   "execution_count": 21,
   "metadata": {},
   "outputs": [],
   "source": [
    "R2 = SSR / SST"
   ]
  },
  {
   "cell_type": "code",
   "execution_count": 22,
   "metadata": {},
   "outputs": [
    {
     "data": {
      "text/plain": [
       "0.5336218458632501"
      ]
     },
     "execution_count": 22,
     "metadata": {},
     "output_type": "execute_result"
    }
   ],
   "source": [
    "R2"
   ]
  },
  {
   "cell_type": "code",
   "execution_count": 23,
   "metadata": {},
   "outputs": [
    {
     "data": {
      "text/plain": [
       "(array([ 1.,  4.,  7., 15., 13., 23., 13., 13.,  9.,  2.]),\n",
       " array([-1.85070906, -1.48530612, -1.11990317, -0.75450023, -0.38909728,\n",
       "        -0.02369434,  0.34170861,  0.70711156,  1.0725145 ,  1.43791745,\n",
       "         1.80332039]),\n",
       " <a list of 10 Patch objects>)"
      ]
     },
     "execution_count": 23,
     "metadata": {},
     "output_type": "execute_result"
    },
    {
     "data": {
      "image/png": "[encoded data removed]",
      "text/plain": [
       "<Figure size 432x288 with 1 Axes>"
      ]
     },
     "metadata": {
      "needs_background": "light"
     },
     "output_type": "display_data"
    }
   ],
   "source": [
    "plt.hist(data[\"y_prediccion\"] - data[\"y_actual\"])"
   ]
  },
  {
   "cell_type": "markdown",
   "metadata": {},
   "source": [
    "## Obtener la recta de regresión\n",
    "* y = a + bx\n",
    "* b = sum((xi - x_m) * (yi - y_m)) / sum((xi-x_m)²)\n",
    "* a = y_n - b * x_m"
   ]
  },
  {
   "cell_type": "code",
   "execution_count": 24,
   "metadata": {},
   "outputs": [
    {
     "data": {
      "text/plain": [
       "(1.9469433615998029, 5.477004156649172)"
      ]
     },
     "execution_count": 24,
     "metadata": {},
     "output_type": "execute_result"
    }
   ],
   "source": [
    "x_mean = np.mean(data[\"x\"])\n",
    "y_mean = np.mean(data[\"y_actual\"])\n",
    "x_mean , y_mean"
   ]
  },
  {
   "cell_type": "code",
   "execution_count": 25,
   "metadata": {},
   "outputs": [],
   "source": [
    "data[\"beta_n\"] = (data[\"x\"] - x_mean) * (data[\"y_actual\"] - y_mean) #covarianza\n",
    "data[\"beta_d\"] = (data[\"x\"] - x_mean) ** 2 #varianza"
   ]
  },
  {
   "cell_type": "code",
   "execution_count": 26,
   "metadata": {},
   "outputs": [],
   "source": [
    "beta = sum(data[\"beta_n\"]) / sum(data[\"beta_d\"])"
   ]
  },
  {
   "cell_type": "code",
   "execution_count": 27,
   "metadata": {},
   "outputs": [],
   "source": [
    "alpha = y_mean - beta * x_mean"
   ]
  },
  {
   "cell_type": "code",
   "execution_count": 28,
   "metadata": {},
   "outputs": [
    {
     "data": {
      "text/plain": [
       "(4.936568703471319, 0.2775814971493456)"
      ]
     },
     "execution_count": 28,
     "metadata": {},
     "output_type": "execute_result"
    }
   ],
   "source": [
    "alpha, beta"
   ]
  },
  {
   "cell_type": "markdown",
   "metadata": {},
   "source": [
    "El modelo lineal obtenido por regresión es: y = 5.012584203324144 + 1.8755946545807156 * x"
   ]
  },
  {
   "cell_type": "code",
   "execution_count": 29,
   "metadata": {},
   "outputs": [],
   "source": [
    "data[\"y_model\"] = alpha + beta * data[\"x\"]"
   ]
  },
  {
   "cell_type": "code",
   "execution_count": 30,
   "metadata": {},
   "outputs": [
    {
     "data": {
      "text/html": [
       "<div>\n",
       "<style scoped>\n",
       "    .dataframe tbody tr th:only-of-type {\n",
       "        vertical-align: middle;\n",
       "    }\n",
       "\n",
       "    .dataframe tbody tr th {\n",
       "        vertical-align: top;\n",
       "    }\n",
       "\n",
       "    .dataframe thead th {\n",
       "        text-align: right;\n",
       "    }\n",
       "</style>\n",
       "<table border=\"1\" class=\"dataframe\">\n",
       "  <thead>\n",
       "    <tr style=\"text-align: right;\">\n",
       "      <th></th>\n",
       "      <th>x</th>\n",
       "      <th>y_actual</th>\n",
       "      <th>y_prediccion</th>\n",
       "      <th>SSR</th>\n",
       "      <th>SSD</th>\n",
       "      <th>SST</th>\n",
       "      <th>beta_n</th>\n",
       "      <th>beta_d</th>\n",
       "      <th>y_model</th>\n",
       "    </tr>\n",
       "  </thead>\n",
       "  <tbody>\n",
       "    <tr>\n",
       "      <th>0</th>\n",
       "      <td>2.681956</td>\n",
       "      <td>6.613609</td>\n",
       "      <td>5.804587</td>\n",
       "      <td>0.107310</td>\n",
       "      <td>0.654518</td>\n",
       "      <td>1.291871</td>\n",
       "      <td>0.835419</td>\n",
       "      <td>0.540243</td>\n",
       "      <td>5.681030</td>\n",
       "    </tr>\n",
       "    <tr>\n",
       "      <th>1</th>\n",
       "      <td>1.231000</td>\n",
       "      <td>5.314396</td>\n",
       "      <td>5.369300</td>\n",
       "      <td>0.011600</td>\n",
       "      <td>0.003014</td>\n",
       "      <td>0.026441</td>\n",
       "      <td>0.116418</td>\n",
       "      <td>0.512575</td>\n",
       "      <td>5.278271</td>\n",
       "    </tr>\n",
       "    <tr>\n",
       "      <th>2</th>\n",
       "      <td>-1.679159</td>\n",
       "      <td>5.279352</td>\n",
       "      <td>4.496252</td>\n",
       "      <td>0.961874</td>\n",
       "      <td>0.613245</td>\n",
       "      <td>0.039066</td>\n",
       "      <td>0.716708</td>\n",
       "      <td>13.148616</td>\n",
       "      <td>4.470465</td>\n",
       "    </tr>\n",
       "    <tr>\n",
       "      <th>3</th>\n",
       "      <td>2.016774</td>\n",
       "      <td>6.784882</td>\n",
       "      <td>5.605032</td>\n",
       "      <td>0.016391</td>\n",
       "      <td>1.392045</td>\n",
       "      <td>1.710544</td>\n",
       "      <td>0.091330</td>\n",
       "      <td>0.004876</td>\n",
       "      <td>5.496388</td>\n",
       "    </tr>\n",
       "    <tr>\n",
       "      <th>4</th>\n",
       "      <td>-1.252974</td>\n",
       "      <td>4.259489</td>\n",
       "      <td>4.624108</td>\n",
       "      <td>0.727432</td>\n",
       "      <td>0.132947</td>\n",
       "      <td>1.482343</td>\n",
       "      <td>3.895948</td>\n",
       "      <td>10.239473</td>\n",
       "      <td>4.588766</td>\n",
       "    </tr>\n",
       "  </tbody>\n",
       "</table>\n",
       "</div>"
      ],
      "text/plain": [
       "          x  y_actual  y_prediccion       SSR       SSD       SST    beta_n  \\\n",
       "0  2.681956  6.613609      5.804587  0.107310  0.654518  1.291871  0.835419   \n",
       "1  1.231000  5.314396      5.369300  0.011600  0.003014  0.026441  0.116418   \n",
       "2 -1.679159  5.279352      4.496252  0.961874  0.613245  0.039066  0.716708   \n",
       "3  2.016774  6.784882      5.605032  0.016391  1.392045  1.710544  0.091330   \n",
       "4 -1.252974  4.259489      4.624108  0.727432  0.132947  1.482343  3.895948   \n",
       "\n",
       "      beta_d   y_model  \n",
       "0   0.540243  5.681030  \n",
       "1   0.512575  5.278271  \n",
       "2  13.148616  4.470465  \n",
       "3   0.004876  5.496388  \n",
       "4  10.239473  4.588766  "
      ]
     },
     "execution_count": 30,
     "metadata": {},
     "output_type": "execute_result"
    }
   ],
   "source": [
    "data.head()"
   ]
  },
  {
   "cell_type": "code",
   "execution_count": 31,
   "metadata": {},
   "outputs": [],
   "source": [
    "SSR = sum( (data[\"y_model\"] - y_mean) ** 2) #suma de los cuadrados de la regresión\n",
    "SSD = sum( (data[\"y_model\"] - data[\"y_actual\"]) ** 2 ) #suma de los cuadrados de la diferencia\n",
    "SST = sum( (data[\"y_actual\"] - np.mean(y_act)) ** 2 ) #suma de los cuadrados totales "
   ]
  },
  {
   "cell_type": "code",
   "execution_count": 32,
   "metadata": {},
   "outputs": [
    {
     "data": {
      "text/plain": [
       "(42.443634847922304, 52.61034694174417, 95.05398178966652)"
      ]
     },
     "execution_count": 32,
     "metadata": {},
     "output_type": "execute_result"
    }
   ],
   "source": [
    "SSR, SSD, SST"
   ]
  },
  {
   "cell_type": "code",
   "execution_count": 33,
   "metadata": {},
   "outputs": [
    {
     "data": {
      "text/plain": [
       "0.4465213771038093"
      ]
     },
     "execution_count": 33,
     "metadata": {},
     "output_type": "execute_result"
    }
   ],
   "source": [
    "R2 = SSR / SST\n",
    "R2"
   ]
  },
  {
   "cell_type": "code",
   "execution_count": 34,
   "metadata": {},
   "outputs": [
    {
     "data": {
      "text/plain": [
       "Text(0.5, 1.0, 'Valor actual vs predicción')"
      ]
     },
     "execution_count": 34,
     "metadata": {},
     "output_type": "execute_result"
    },
    {
     "data": {
      "image/png": "[encoded data removed]",
      "text/plain": [
       "<Figure size 432x288 with 1 Axes>"
      ]
     },
     "metadata": {
      "needs_background": "light"
     },
     "output_type": "display_data"
    }
   ],
   "source": [
    "y_mean = [np.mean(y_act) for i in range(1, len(x_list) + 1)]\n",
    "\n",
    "%matplotlib inline\n",
    "plt.plot(x, y_pred)\n",
    "plt.plot(x, y_act, \"ro\")\n",
    "plt.plot(x, y_mean, \"g\")\n",
    "plt.plot(data[\"x\"], data [\"y_model\"])\n",
    "plt.title(\"Valor actual vs predicción\")"
   ]
  },
  {
   "cell_type": "markdown",
   "metadata": {},
   "source": [
    "## Error estandar de los residuos (RSE)\n"
   ]
  },
  {
   "cell_type": "code",
   "execution_count": 35,
   "metadata": {},
   "outputs": [
    {
     "data": {
      "text/plain": [
       "0.7326938480127677"
      ]
     },
     "execution_count": 35,
     "metadata": {},
     "output_type": "execute_result"
    }
   ],
   "source": [
    "RSE = np.sqrt(SSD/(len(data)-2))\n",
    "RSE  ##cuando menor sea el valor, mejor será el modelo"
   ]
  },
  {
   "cell_type": "code",
   "execution_count": 36,
   "metadata": {},
   "outputs": [
    {
     "data": {
      "text/plain": [
       "5.477004156649172"
      ]
     },
     "execution_count": 36,
     "metadata": {},
     "output_type": "execute_result"
    }
   ],
   "source": [
    "np.mean(data[\"y_actual\"])"
   ]
  },
  {
   "cell_type": "code",
   "execution_count": 39,
   "metadata": {},
   "outputs": [
    {
     "data": {
      "text/plain": [
       "13.377639071594743"
      ]
     },
     "execution_count": 39,
     "metadata": {},
     "output_type": "execute_result"
    }
   ],
   "source": [
    "RSE * 100. / np.mean(data[\"y_actual\"])   ##porcentaje de error"
   ]
  },
  {
   "cell_type": "code",
   "execution_count": null,
   "metadata": {},
   "outputs": [],
   "source": []
  }
 ],
 "metadata": {
  "kernelspec": {
   "display_name": "Python 3",
   "language": "python",
   "name": "python3"
  },
  "language_info": {
   "codemirror_mode": {
    "name": "ipython",
    "version": 3
   },
   "file_extension": ".py",
   "mimetype": "text/x-python",
   "name": "python",
   "nbconvert_exporter": "python",
   "pygments_lexer": "ipython3",
   "version": "3.7.6"
  }
 },
 "nbformat": 4,
 "nbformat_minor": 2
}
